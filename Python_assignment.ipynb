{
  "nbformat": 4,
  "nbformat_minor": 0,
  "metadata": {
    "colab": {
      "provenance": [],
      "authorship_tag": "ABX9TyOihENtXnzbwzFmOofv+gKc",
      "include_colab_link": true
    },
    "kernelspec": {
      "name": "python3",
      "display_name": "Python 3"
    },
    "language_info": {
      "name": "python"
    }
  },
  "cells": [
    {
      "cell_type": "markdown",
      "metadata": {
        "id": "view-in-github",
        "colab_type": "text"
      },
      "source": [
        "<a href=\"https://colab.research.google.com/github/priyachittamuru/python/blob/main/Python_assignment.ipynb\" target=\"_parent\"><img src=\"https://colab.research.google.com/assets/colab-badge.svg\" alt=\"Open In Colab\"/></a>"
      ]
    },
    {
      "cell_type": "code",
      "execution_count": 32,
      "metadata": {
        "id": "BKYZkXvvIYen",
        "colab": {
          "base_uri": "https://localhost:8080/"
        },
        "outputId": "bf093023-f880-4e1f-dadd-9a466e518fb8"
      },
      "outputs": [
        {
          "output_type": "stream",
          "name": "stdout",
          "text": [
            "Hello, World!\n",
            "Enter your name: priya\n",
            "Hello, priya!\n",
            "Age: 25 Type: <class 'int'>\n",
            "Price: 99.99 Type: <class 'float'>\n",
            "City: Paris Type: <class 'str'>\n",
            "Is Happy: False Type: <class 'bool'>\n"
          ]
        }
      ],
      "source": [
        "# Print a message\n",
        "print(\"Hello, World!\")\n",
        "\n",
        "# Taking user input\n",
        "name = input(\"Enter your name: \")\n",
        "print(\"Hello, \" + name + \"!\")\n",
        "\n",
        "# Variable assignments and data types\n",
        "age = 25       # Integer\n",
        "price = 99.99  # Float\n",
        "city = \"Paris\" # String\n",
        "is_happy = False  # Boolean\n",
        "\n",
        "# Display values and types\n",
        "print(\"Age:\", age, \"Type:\", type(age))\n",
        "print(\"Price:\", price, \"Type:\", type(price))\n",
        "print(\"City:\", city, \"Type:\", type(city))\n",
        "print(\"Is Happy:\", is_happy, \"Type:\", type(is_happy))\n"
      ]
    },
    {
      "cell_type": "code",
      "source": [
        "# Creating a list\n",
        "fruits = [\"Apple\", \"Banana\", \"Cherry\"]\n",
        "print(\"Original List:\", fruits)\n",
        "\n",
        "# Append an element\n",
        "fruits.append(\"Orange\")\n",
        "print(\"After append:\", fruits)\n",
        "\n",
        "# Remove an element\n",
        "fruits.remove(\"Banana\")\n",
        "print(\"After remove:\", fruits)\n",
        "\n",
        "# Pop the last element\n",
        "popped_item = fruits.pop()\n",
        "print(\"After pop:\", fruits, \"| Popped Item:\", popped_item)\n",
        "\n",
        "# Slicing a list (Extracting elements)\n",
        "sub_list = fruits[0:2]  # First two elements\n",
        "print(\"Sliced List:\", sub_list)\n"
      ],
      "metadata": {
        "colab": {
          "base_uri": "https://localhost:8080/"
        },
        "id": "FwsczATsKf11",
        "outputId": "1f6b6221-b8a8-4a0c-c39b-bf0118d5182e"
      },
      "execution_count": 33,
      "outputs": [
        {
          "output_type": "stream",
          "name": "stdout",
          "text": [
            "Original List: ['Apple', 'Banana', 'Cherry']\n",
            "After append: ['Apple', 'Banana', 'Cherry', 'Orange']\n",
            "After remove: ['Apple', 'Cherry', 'Orange']\n",
            "After pop: ['Apple', 'Cherry'] | Popped Item: Orange\n",
            "Sliced List: ['Apple', 'Cherry']\n"
          ]
        }
      ]
    },
    {
      "cell_type": "markdown",
      "source": [
        "\n",
        "1. Appending checks if the item exists before adding.\n",
        "\n",
        "2. Removing checks if the item is in the list before deleting.\n",
        "3. Popping removes the last element if the list isn't empty.\n",
        "4. Slicing extracts the first two elements."
      ],
      "metadata": {
        "id": "Ej6rQsKOdTDb"
      }
    },
    {
      "cell_type": "code",
      "source": [
        "# Sample list\n",
        "numbers = [1, 2, 3, 4, 5]\n",
        "\n",
        "# Using a for loop\n",
        "print(\"Using for loop:\")\n",
        "for num in numbers:\n",
        "    print(num)\n",
        "\n",
        "# Using a while loop\n",
        "print(\"Using while loop:\")\n",
        "i = 0\n",
        "while i < len(numbers):\n",
        "    print(numbers[i])\n",
        "    i += 1\n"
      ],
      "metadata": {
        "colab": {
          "base_uri": "https://localhost:8080/"
        },
        "id": "pHZJLlVQKf4u",
        "outputId": "1675e348-d149-463c-e2d0-1dc6fa5dfa3a"
      },
      "execution_count": 34,
      "outputs": [
        {
          "output_type": "stream",
          "name": "stdout",
          "text": [
            "Using for loop:\n",
            "1\n",
            "2\n",
            "3\n",
            "4\n",
            "5\n",
            "Using while loop:\n",
            "1\n",
            "2\n",
            "3\n",
            "4\n",
            "5\n"
          ]
        }
      ]
    },
    {
      "cell_type": "markdown",
      "source": [
        "1. For Loop:\n",
        "\n",
        "* Iterates through the numbers list directly.\n",
        "Prints each element (num) one by one.\n",
        "2. While Loop:\n",
        "\n",
        "* Uses an index (i) to access elements.\n",
        "Runs until i reaches the length of the list.\n",
        "Increments i in each iteration to avoid an infinite loop."
      ],
      "metadata": {
        "id": "3vKaEojWd_cq"
      }
    },
    {
      "cell_type": "code",
      "source": [
        "# Sample list\n",
        "numbers = [1, 2, 3, 4, 5]\n",
        "\n",
        "# Using for loop with if-elif conditions\n",
        "print(\"\\nChecking even/odd numbers:\")\n",
        "for num in numbers:\n",
        "    if num % 2 == 0:\n",
        "        print(f\"{num} is even.\")\n",
        "    elif num % 2 == 1:\n",
        "        print(f\"{num} is odd.\")\n",
        "\n",
        "# Nested loop example: Multiplication table\n",
        "print(\"\\nMultiplication Table (1-3):\")\n",
        "for i in range(1, 3):  # Outer loop (1 to 3)\n",
        "    for j in range(1, 6):  # Inner loop (1 to 5)\n",
        "        print(f\"{i} x {j} = {i * j}\")\n",
        "    print(\"---\")  # Separator after each table\n"
      ],
      "metadata": {
        "colab": {
          "base_uri": "https://localhost:8080/"
        },
        "id": "_GUNZVBwKf74",
        "outputId": "e2c91b43-a59a-472b-fa8d-59c48bed94cb"
      },
      "execution_count": 35,
      "outputs": [
        {
          "output_type": "stream",
          "name": "stdout",
          "text": [
            "\n",
            "Checking even/odd numbers:\n",
            "1 is odd.\n",
            "2 is even.\n",
            "3 is odd.\n",
            "4 is even.\n",
            "5 is odd.\n",
            "\n",
            "Multiplication Table (1-3):\n",
            "1 x 1 = 1\n",
            "1 x 2 = 2\n",
            "1 x 3 = 3\n",
            "1 x 4 = 4\n",
            "1 x 5 = 5\n",
            "---\n",
            "2 x 1 = 2\n",
            "2 x 2 = 4\n",
            "2 x 3 = 6\n",
            "2 x 4 = 8\n",
            "2 x 5 = 10\n",
            "---\n"
          ]
        }
      ]
    },
    {
      "cell_type": "markdown",
      "source": [
        "Iteration & Conditions\n",
        "\n",
        "1. For loop checks if numbers are even or odd using if-elif.\n",
        "2. While loop iterates over the list with an index.\n",
        "3. Nested Loop (Multiplication Table)\n",
        "\n",
        "* The outer loop picks a number (1-2).\n",
        "* The inner loop multiplies it by 1-5."
      ],
      "metadata": {
        "id": "L90etWJRdczV"
      }
    },
    {
      "cell_type": "code",
      "source": [
        "# Creating a tuple\n",
        "fruits = (\"Apple\", \"Banana\", \"Cherry\", \"Mango\")\n",
        "\n",
        "# Access elements by index\n",
        "print(\"First Fruit:\", fruits[0])  # Apple\n",
        "print(\"Last Fruit:\", fruits[-1])  # Mango\n",
        "\n",
        "# Slicing a tuple\n",
        "print(\"First two fruits:\", fruits[:2])  # ('Apple', 'Banana')\n"
      ],
      "metadata": {
        "colab": {
          "base_uri": "https://localhost:8080/"
        },
        "id": "bvn0lQPSKf_J",
        "outputId": "2f7c6e43-0f20-4ef2-ceb8-86873d26949a"
      },
      "execution_count": 36,
      "outputs": [
        {
          "output_type": "stream",
          "name": "stdout",
          "text": [
            "First Fruit: Apple\n",
            "Last Fruit: Mango\n",
            "First two fruits: ('Apple', 'Banana')\n"
          ]
        }
      ]
    },
    {
      "cell_type": "code",
      "source": [
        "# Tuples are immutable, meaning elements cannot be changed\n",
        "try:\n",
        "    fruits[1] = \"Orange\"  # This will raise an error\n",
        "except TypeError as e:\n",
        "    print(\"Error:\", e)\n"
      ],
      "metadata": {
        "colab": {
          "base_uri": "https://localhost:8080/"
        },
        "id": "K1aNX5QRKgCP",
        "outputId": "5f74bba5-5695-42f0-b387-31d423268492"
      },
      "execution_count": 37,
      "outputs": [
        {
          "output_type": "stream",
          "name": "stdout",
          "text": [
            "Error: 'tuple' object does not support item assignment\n"
          ]
        }
      ]
    },
    {
      "cell_type": "code",
      "source": [
        "# Tuple unpacking\n",
        "a, b, c, d = fruits  # Unpacking elements into variables\n",
        "print(\"Unpacked values:\", a, b, c, d)\n",
        "\n",
        "# Partial unpacking\n",
        "x, y, *rest = fruits\n",
        "print(\"First two:\", x, y)\n",
        "print(\"Remaining:\", rest)  # ['Cherry', 'Mango']\n"
      ],
      "metadata": {
        "colab": {
          "base_uri": "https://localhost:8080/"
        },
        "id": "7czk0dhUKgFJ",
        "outputId": "ea9d8f5a-bd61-4aa8-9362-2a5e6e06c92d"
      },
      "execution_count": 38,
      "outputs": [
        {
          "output_type": "stream",
          "name": "stdout",
          "text": [
            "Unpacked values: Apple Banana Cherry Mango\n",
            "First two: Apple Banana\n",
            "Remaining: ['Cherry', 'Mango']\n"
          ]
        }
      ]
    },
    {
      "cell_type": "markdown",
      "source": [
        "1. Tuple Creation & Accessing → Uses indexing and slicing.\n",
        "2. Immutability → Tuples cannot be modified after creation.\n",
        "3. Tuple Unpacking → Assigns tuple elements to variables efficiently."
      ],
      "metadata": {
        "id": "hDmGP_zgez8n"
      }
    },
    {
      "cell_type": "code",
      "source": [
        "# Creating a dictionary with student names and their grades\n",
        "students = {\n",
        "    \"Alice\": 85,\n",
        "    \"Bob\": 78,\n",
        "    \"Charlie\": 92,\n",
        "    \"David\": 88\n",
        "}\n",
        "\n",
        "# Accessing values\n",
        "print(\"Alice's Grade:\", students[\"Alice\"])\n",
        "print(\"Charlie's Grade:\", students.get(\"Charlie\"))  # Using .get() to avoid errors\n"
      ],
      "metadata": {
        "colab": {
          "base_uri": "https://localhost:8080/"
        },
        "id": "ptH3ejfzKgHy",
        "outputId": "c36be5f3-811d-4cbf-97f8-641b78464833"
      },
      "execution_count": 39,
      "outputs": [
        {
          "output_type": "stream",
          "name": "stdout",
          "text": [
            "Alice's Grade: 85\n",
            "Charlie's Grade: 92\n"
          ]
        }
      ]
    },
    {
      "cell_type": "code",
      "source": [
        "# Adding a new student\n",
        "students[\"Eve\"] = 90\n",
        "print(\"After Adding Eve:\", students)\n",
        "\n",
        "# Updating a student's grade\n",
        "students[\"Bob\"] = 82\n",
        "print(\"After Updating Bob's Grade:\", students)\n",
        "\n",
        "# Deleting a student\n",
        "del students[\"David\"]\n",
        "print(\"After Deleting David:\", students)\n",
        "\n",
        "# Removing a student using pop()\n",
        "removed_grade = students.pop(\"Charlie\")\n",
        "print(f\"Charlie's grade ({removed_grade}) removed:\", students)\n"
      ],
      "metadata": {
        "colab": {
          "base_uri": "https://localhost:8080/"
        },
        "id": "PkhodoXrKgLX",
        "outputId": "8e755e0c-1f4d-42d8-947e-d8fc568db427"
      },
      "execution_count": 40,
      "outputs": [
        {
          "output_type": "stream",
          "name": "stdout",
          "text": [
            "After Adding Eve: {'Alice': 85, 'Bob': 78, 'Charlie': 92, 'David': 88, 'Eve': 90}\n",
            "After Updating Bob's Grade: {'Alice': 85, 'Bob': 82, 'Charlie': 92, 'David': 88, 'Eve': 90}\n",
            "After Deleting David: {'Alice': 85, 'Bob': 82, 'Charlie': 92, 'Eve': 90}\n",
            "Charlie's grade (92) removed: {'Alice': 85, 'Bob': 82, 'Eve': 90}\n"
          ]
        }
      ]
    },
    {
      "cell_type": "code",
      "source": [
        "# Iterating through keys\n",
        "print(\"\\nStudent Names:\")\n",
        "for name in students.keys():\n",
        "    print(name)\n",
        "\n",
        "# Iterating through values\n",
        "print(\"\\nStudent Grades:\")\n",
        "for grade in students.values():\n",
        "    print(grade)\n",
        "\n",
        "# Iterating through key-value pairs\n",
        "print(\"\\nStudent Details:\")\n",
        "for name, grade in students.items():\n",
        "    print(f\"{name}: {grade}\")\n"
      ],
      "metadata": {
        "colab": {
          "base_uri": "https://localhost:8080/"
        },
        "id": "HsIEAp2dKgVZ",
        "outputId": "f29aa440-cdae-403e-ef99-3bfd2c96a532"
      },
      "execution_count": 41,
      "outputs": [
        {
          "output_type": "stream",
          "name": "stdout",
          "text": [
            "\n",
            "Student Names:\n",
            "Alice\n",
            "Bob\n",
            "Eve\n",
            "\n",
            "Student Grades:\n",
            "85\n",
            "82\n",
            "90\n",
            "\n",
            "Student Details:\n",
            "Alice: 85\n",
            "Bob: 82\n",
            "Eve: 90\n"
          ]
        }
      ]
    },
    {
      "cell_type": "markdown",
      "source": [
        "1. Dictionary Creation → Stores student names as keys and grades as values.\n",
        "2. Operations → Add, update, delete key-value pairs efficiently.\n",
        "3. Iteration → Loops through keys, values, and key-value pairs."
      ],
      "metadata": {
        "id": "tJlzRMhGgf3N"
      }
    },
    {
      "cell_type": "code",
      "source": [
        "# Creating a set of student names\n",
        "students = {\"Alice\", \"Bob\", \"Charlie\", \"David\", \"Alice\"}  # 'Alice' appears twice\n",
        "\n",
        "# Sets automatically remove duplicates\n",
        "print(\"Student Set:\", students)  # Output: {'Alice', 'Bob', 'Charlie', 'David'}\n"
      ],
      "metadata": {
        "colab": {
          "base_uri": "https://localhost:8080/"
        },
        "id": "numUhAU4KgYa",
        "outputId": "dcdf910c-9d5e-49c7-86a3-808de1f6d078"
      },
      "execution_count": 42,
      "outputs": [
        {
          "output_type": "stream",
          "name": "stdout",
          "text": [
            "Student Set: {'Alice', 'Charlie', 'Bob', 'David'}\n"
          ]
        }
      ]
    },
    {
      "cell_type": "markdown",
      "source": [
        " Uniqueness Property → Sets automatically remove duplicate values."
      ],
      "metadata": {
        "id": "GuhxOe_MhjDi"
      }
    },
    {
      "cell_type": "code",
      "source": [
        "# Another set of students who passed an exam\n",
        "passed_students = {\"Charlie\", \"Eve\", \"Alice\", \"Frank\"}\n",
        "\n",
        "# Union: Combine both sets (all unique elements)\n",
        "all_students = students.union(passed_students)\n",
        "print(\"Union (All Students):\", all_students)\n",
        "\n",
        "# Intersection: Common elements in both sets\n",
        "common_students = students.intersection(passed_students)\n",
        "print(\"Intersection (Common Students):\", common_students)\n",
        "\n",
        "# Difference: Students in 'students' but not in 'passed_students'\n",
        "diff_students = students.difference(passed_students)\n",
        "print(\"Difference (Students not in Passed List):\", diff_students)\n"
      ],
      "metadata": {
        "colab": {
          "base_uri": "https://localhost:8080/"
        },
        "id": "Rgz0aiG1KgbT",
        "outputId": "8796b14a-1eda-4df3-b618-0d2af7e2d94e"
      },
      "execution_count": 43,
      "outputs": [
        {
          "output_type": "stream",
          "name": "stdout",
          "text": [
            "Union (All Students): {'Frank', 'Eve', 'Alice', 'Bob', 'David', 'Charlie'}\n",
            "Intersection (Common Students): {'Charlie', 'Alice'}\n",
            "Difference (Students not in Passed List): {'Bob', 'David'}\n"
          ]
        }
      ]
    },
    {
      "cell_type": "markdown",
      "source": [
        "1. Union (A | B) → Combines both sets without duplicates.\n",
        "2. Intersection (A & B) → Finds common elements between sets.\n",
        "3. Difference (A - B) → Finds elements in one set but not the other."
      ],
      "metadata": {
        "id": "evlCvFqhhoQh"
      }
    },
    {
      "cell_type": "markdown",
      "source": [
        "## **Comparision between list,tuple,dictionary and sets**\n",
        "\n",
        "| Data Structure | Ordered? | Mutable? | Allows Duplicates? | Key-Value Pairs? | Syntax |\n",
        "|---------------|---------|---------|----------------|----------------|--------|\n",
        "| **List**      | ✅ Yes  | ✅ Yes  | ✅ Yes         | ❌ No         | `[]` |\n",
        "| **Tuple**     | ✅ Yes  | ❌ No   | ✅ Yes         | ❌ No         | `()` |\n",
        "| **Dictionary**| ✅ Yes  | ✅ Yes  | ❌ No (keys)   | ✅ Yes         | `{key: value}` |\n",
        "| **Set**       | ❌ No   | ✅ Yes  | ❌ No         | ❌ No         | `{}` or `set()` |\n",
        "\n",
        "1. List → Ordered, changeable, allows duplicates. Example: [\"Alice\", \"Bob\", \"Charlie\"]\n",
        "2. Tuple → Ordered, immutable (cannot be changed), allows duplicates. Example: (\"Alice\", \"Bob\", \"Charlie\")\n",
        "3. Dictionary → Stores key-value pairs, ordered (since Python 3.7), keys must be unique. Example: {\"Alice\": 85, \"Bob\": 78}\n",
        "4. Set → Unordered, does not allow duplicates, used for unique values. Example: {\"Alice\", \"Bob\", \"Charlie\"}\n"
      ],
      "metadata": {
        "id": "VzqAfC8QibPo"
      }
    },
    {
      "cell_type": "code",
      "source": [
        "# Check if a student passed or failed\n",
        "score = int(input(\"Enter student's score: \"))\n",
        "\n",
        "if score >= 50:\n",
        "    print(\"Pass\")\n",
        "else:\n",
        "    print(\"Fail\")\n"
      ],
      "metadata": {
        "colab": {
          "base_uri": "https://localhost:8080/"
        },
        "id": "vsrCL0TXKgeA",
        "outputId": "bef3840a-a234-47f0-be81-f7fa0b074303"
      },
      "execution_count": 44,
      "outputs": [
        {
          "output_type": "stream",
          "name": "stdout",
          "text": [
            "Enter student's score: 60\n",
            "Pass\n"
          ]
        }
      ]
    },
    {
      "cell_type": "markdown",
      "source": [
        "If-Else → Makes decisions based on conditions."
      ],
      "metadata": {
        "id": "PczKH8UxksK7"
      }
    },
    {
      "cell_type": "code",
      "source": [
        "# Grading system based on score\n",
        "score = int(input(\"Enter student's score: \"))\n",
        "\n",
        "if score >= 90:\n",
        "    print(\"Grade: A\")\n",
        "elif score >= 80:\n",
        "    print(\"Grade: B\")\n",
        "elif score >= 70:\n",
        "    print(\"Grade: C\")\n",
        "elif score >= 60:\n",
        "    print(\"Grade: D\")\n",
        "else:\n",
        "    print(\"Grade: F (Fail)\")\n"
      ],
      "metadata": {
        "colab": {
          "base_uri": "https://localhost:8080/"
        },
        "id": "AYiSPY6nKggx",
        "outputId": "34a920ff-4c24-43e0-b054-48685183a725"
      },
      "execution_count": 45,
      "outputs": [
        {
          "output_type": "stream",
          "name": "stdout",
          "text": [
            "Enter student's score: 79\n",
            "Grade: C\n"
          ]
        }
      ]
    },
    {
      "cell_type": "code",
      "source": [
        "# Check if a person is eligible to vote and for a senior citizen discount\n",
        "age = int(input(\"Enter your age: \"))\n",
        "\n",
        "if age >= 18:\n",
        "    print(\"You are eligible to vote.\")\n",
        "\n",
        "    if age >= 60:\n",
        "        print(\"You are also eligible for a senior citizen discount.\")\n",
        "    else:\n",
        "        print(\"You are not eligible for a senior citizen discount.\")\n",
        "else:\n",
        "    print(\"You are not eligible to vote.\")\n"
      ],
      "metadata": {
        "colab": {
          "base_uri": "https://localhost:8080/"
        },
        "id": "ke7x4BcVKgkK",
        "outputId": "47c43119-3a12-4734-ff4f-7f1b16154df2"
      },
      "execution_count": 46,
      "outputs": [
        {
          "output_type": "stream",
          "name": "stdout",
          "text": [
            "Enter your age: 77\n",
            "You are eligible to vote.\n",
            "You are also eligible for a senior citizen discount.\n"
          ]
        }
      ]
    },
    {
      "cell_type": "markdown",
      "source": [
        "1. Nested If-Else → Handles multiple conditions for complex logic.\n",
        "2. Examples → Covers pass/fail check, grading system, voting & discount eligibility."
      ],
      "metadata": {
        "id": "WP0wtiUWkwEt"
      }
    },
    {
      "cell_type": "code",
      "source": [
        "# List iteration\n",
        "students = [\"Alice\", \"Bob\", \"Charlie\", \"David\"]\n",
        "print(\"Iterating over a list:\")\n",
        "for student in students:\n",
        "    print(student)\n",
        "\n",
        "# Tuple iteration\n",
        "scores = (85, 78, 92, 88)\n",
        "print(\"\\nIterating over a tuple:\")\n",
        "for score in scores:\n",
        "    print(score)\n",
        "\n",
        "# Dictionary iteration (keys & values)\n",
        "grades = {\"Alice\": 85, \"Bob\": 78, \"Charlie\": 92}\n",
        "print(\"\\nIterating over a dictionary:\")\n",
        "for name, grade in grades.items():\n",
        "    print(f\"{name}: {grade}\")\n"
      ],
      "metadata": {
        "colab": {
          "base_uri": "https://localhost:8080/"
        },
        "id": "1DKmUb2ble6P",
        "outputId": "922e1884-78f5-485d-9b97-f2576822b5c2"
      },
      "execution_count": 47,
      "outputs": [
        {
          "output_type": "stream",
          "name": "stdout",
          "text": [
            "Iterating over a list:\n",
            "Alice\n",
            "Bob\n",
            "Charlie\n",
            "David\n",
            "\n",
            "Iterating over a tuple:\n",
            "85\n",
            "78\n",
            "92\n",
            "88\n",
            "\n",
            "Iterating over a dictionary:\n",
            "Alice: 85\n",
            "Bob: 78\n",
            "Charlie: 92\n"
          ]
        }
      ]
    },
    {
      "cell_type": "markdown",
      "source": [
        "1. For Loops → Iterate over lists, tuples, and dictionaries efficiently.\n",
        "\n"
      ],
      "metadata": {
        "id": "LIHskI19l-2V"
      }
    },
    {
      "cell_type": "code",
      "source": [
        "# Print numbers from 1 to 5 using while loop\n",
        "print(\"\\nUsing while loop:\")\n",
        "num = 1\n",
        "while num <= 5:\n",
        "    print(num)\n",
        "    num += 1\n"
      ],
      "metadata": {
        "colab": {
          "base_uri": "https://localhost:8080/"
        },
        "id": "UPWYvHkCl0mF",
        "outputId": "34218e28-89bb-4ed6-c1f7-7764a11e852e"
      },
      "execution_count": 48,
      "outputs": [
        {
          "output_type": "stream",
          "name": "stdout",
          "text": [
            "\n",
            "Using while loop:\n",
            "1\n",
            "2\n",
            "3\n",
            "4\n",
            "5\n"
          ]
        }
      ]
    },
    {
      "cell_type": "markdown",
      "source": [
        "1. While Loops → Repeats a task until a condition is met.\n"
      ],
      "metadata": {
        "id": "RO58WSlLmJwx"
      }
    },
    {
      "cell_type": "code",
      "source": [
        "# Using break to stop the loop when a condition is met\n",
        "print(\"\\nUsing break in a loop:\")\n",
        "for student in students:\n",
        "    if student == \"Charlie\":\n",
        "        print(\"Found Charlie, stopping loop.\")\n",
        "        break\n",
        "    print(student)\n",
        "\n",
        "# Using continue to skip an iteration\n",
        "print(\"\\nUsing continue in a loop:\")\n",
        "for student in students:\n",
        "    if student == \"Bob\":\n",
        "        print(\"Skipping Bob...\")\n",
        "        continue\n",
        "    print(student)\n"
      ],
      "metadata": {
        "colab": {
          "base_uri": "https://localhost:8080/"
        },
        "id": "e87ozJ-Tl0Yi",
        "outputId": "1a83df11-25d7-421c-c3a5-ac39fb176f1e"
      },
      "execution_count": 49,
      "outputs": [
        {
          "output_type": "stream",
          "name": "stdout",
          "text": [
            "\n",
            "Using break in a loop:\n",
            "Alice\n",
            "Bob\n",
            "Found Charlie, stopping loop.\n",
            "\n",
            "Using continue in a loop:\n",
            "Alice\n",
            "Skipping Bob...\n",
            "Charlie\n",
            "David\n"
          ]
        }
      ]
    },
    {
      "cell_type": "markdown",
      "source": [
        "1. Break Statement → Stops the loop when a condition is met.\n",
        "2. Continue Statement → Skips the current iteration and moves to the next."
      ],
      "metadata": {
        "id": "C84hAroVmWXG"
      }
    },
    {
      "cell_type": "code",
      "source": [
        "numbers = [10, 25, 67, 89, 45, 100, 34]\n",
        "\n",
        "# Using max() function\n",
        "largest = max(numbers)\n",
        "print(\"Largest Number:\", largest)\n",
        "\n",
        "# Using loop to find the largest number manually\n",
        "largest_manual = numbers[0]\n",
        "for num in numbers:\n",
        "    if num > largest_manual:\n",
        "        largest_manual = num\n",
        "print(\"Largest Number (Without max()):\", largest_manual)\n"
      ],
      "metadata": {
        "colab": {
          "base_uri": "https://localhost:8080/"
        },
        "id": "IsWM7C7gl0ER",
        "outputId": "61129b56-a460-42c3-ef43-55211aef500d"
      },
      "execution_count": 50,
      "outputs": [
        {
          "output_type": "stream",
          "name": "stdout",
          "text": [
            "Largest Number: 100\n",
            "Largest Number (Without max()): 100\n"
          ]
        }
      ]
    },
    {
      "cell_type": "markdown",
      "source": [
        "1. We use max() to find the largest number directly.\n",
        "2. A manual method is also shown using a loop to compare values."
      ],
      "metadata": {
        "id": "L39G4EBZoJB6"
      }
    },
    {
      "cell_type": "code",
      "source": [
        "from collections import Counter  # Import Counter from collections module\n",
        "\n",
        "elements = [1, 2, 3, 1, 2, 3, 1, 4, 5, 4, 4]\n",
        "frequency = Counter(elements)  # Counts occurrences of each element\n",
        "print(\"Frequency of elements:\", frequency)\n",
        "\n",
        "# Manual method\n",
        "freq_manual = {}\n",
        "for elem in elements:\n",
        "    freq_manual[elem] = freq_manual.get(elem, 0) + 1  # Increment count for each element\n",
        "print(\"Frequency (Manual Count):\", freq_manual)\n"
      ],
      "metadata": {
        "colab": {
          "base_uri": "https://localhost:8080/"
        },
        "id": "09w-g92soPuc",
        "outputId": "94553d77-0ff4-4c20-827e-175f6d1fea37"
      },
      "execution_count": 51,
      "outputs": [
        {
          "output_type": "stream",
          "name": "stdout",
          "text": [
            "Frequency of elements: Counter({1: 3, 4: 3, 2: 2, 3: 2, 5: 1})\n",
            "Frequency (Manual Count): {1: 3, 2: 2, 3: 2, 4: 3, 5: 1}\n"
          ]
        }
      ]
    },
    {
      "cell_type": "markdown",
      "source": [
        "1. Counter() automatically counts how many times each element appears.\n",
        "2. The manual method uses a dictionary to store and update counts."
      ],
      "metadata": {
        "id": "DrB9oUQFpbWt"
      }
    },
    {
      "cell_type": "code",
      "source": [
        "students = {\n",
        "    \"Alice\": 85,\n",
        "    \"Bob\": 78,\n",
        "    \"Charlie\": 92,\n",
        "    \"David\": 88\n",
        "}\n",
        "\n",
        "# Finding the student with the highest marks\n",
        "top_student = max(students, key=students.get)  # Finds the key with the highest value\n",
        "print(\"Top Student:\", top_student, \"with marks\", students[top_student])\n"
      ],
      "metadata": {
        "colab": {
          "base_uri": "https://localhost:8080/"
        },
        "id": "ZkH89N-_pjnu",
        "outputId": "bf86a250-c5a4-402b-8e5e-1b992e1b489d"
      },
      "execution_count": 52,
      "outputs": [
        {
          "output_type": "stream",
          "name": "stdout",
          "text": [
            "Top Student: Charlie with marks 92\n"
          ]
        }
      ]
    },
    {
      "cell_type": "markdown",
      "source": [
        "1. The dictionary stores student names as keys and marks as values.\n",
        "2. max(students, key=students.get) finds the student with the highest score."
      ],
      "metadata": {
        "id": "eXuB1KNBpoTG"
      }
    },
    {
      "cell_type": "code",
      "source": [
        "n = int(input(\"Enter the limit for Fibonacci series: \"))  # Get the limit from the user\n",
        "a, b = 0, 1  # Initialize the first two numbers\n",
        "\n",
        "print(\"Fibonacci Series:\")\n",
        "while a <= n:\n",
        "    print(a, end=\" \")  # Print the current number\n",
        "    a, b = b, a + b  # Update values for the next iteration\n",
        "print()\n"
      ],
      "metadata": {
        "colab": {
          "base_uri": "https://localhost:8080/"
        },
        "id": "2YHKPCuapuXo",
        "outputId": "c57afdc2-09df-4057-942d-f24c485dde0b"
      },
      "execution_count": 53,
      "outputs": [
        {
          "output_type": "stream",
          "name": "stdout",
          "text": [
            "Enter the limit for Fibonacci series: 10\n",
            "Fibonacci Series:\n",
            "0 1 1 2 3 5 8 \n"
          ]
        }
      ]
    },
    {
      "cell_type": "markdown",
      "source": [
        "1. Fibonacci series starts with 0 and 1, then each number is the sum of the previous two.\n",
        "2. while loop ensures the series continues until it reaches the given limit.\n"
      ],
      "metadata": {
        "id": "pb_t40NMqEuW"
      }
    },
    {
      "cell_type": "code",
      "source": [
        "numbers = [1, 2, 2, 3, 4, 4, 5, 6, 6, 7]\n",
        "unique_numbers = list(set(numbers))  # Convert list to set to remove duplicates, then back to list\n",
        "\n",
        "print(\"Original List:\", numbers)\n",
        "print(\"List after removing duplicates:\", unique_numbers)\n"
      ],
      "metadata": {
        "colab": {
          "base_uri": "https://localhost:8080/"
        },
        "id": "Zm9wLOBHqMK9",
        "outputId": "8c4e9406-812a-4b8d-c2d0-3fdc5858a388"
      },
      "execution_count": 54,
      "outputs": [
        {
          "output_type": "stream",
          "name": "stdout",
          "text": [
            "Original List: [1, 2, 2, 3, 4, 4, 5, 6, 6, 7]\n",
            "List after removing duplicates: [1, 2, 3, 4, 5, 6, 7]\n"
          ]
        }
      ]
    },
    {
      "cell_type": "markdown",
      "source": [
        "1. Sets don’t allow duplicates, so converting a list to a set automatically removes them.\n",
        "3. Converting it back to a list gives the result without duplicates."
      ],
      "metadata": {
        "id": "2AnolStXqOZu"
      }
    }
  ]
}